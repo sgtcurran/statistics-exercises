{
 "cells": [
  {
   "cell_type": "markdown",
   "metadata": {},
   "source": [
    "H0: There is no difference in network latency compared to previous network provider.\n",
    "\n",
    "Ha: Network latency has gone down since changing internet provider. "
   ]
  },
  {
   "cell_type": "markdown",
   "metadata": {},
   "source": [
    "HO: Internet traffic and click through ratio is not better with redeigned website compared to old website. \n",
    "\n",
    "Ha: Internet traffic and click through ratio is better compared to redeigned website to old website."
   ]
  },
  {
   "cell_type": "markdown",
   "metadata": {},
   "source": [
    "H0: Our sales have not gone up since TV ad started so it must be not driving more sales.\n",
    "\n",
    "Ha: Our sales has gone up since our TV ad started do it is driving more sales."
   ]
  },
  {
   "cell_type": "markdown",
   "metadata": {},
   "source": [
    "T-Test Exercises \n",
    "\n",
    "Ace Realty wants to determine whether the average time it takes to sell homes is different for its two offices. \n",
    "\n",
    "A sample of 40 sales from office #1 revealed a mean of 90 days and a standard deviation of 15 days. A sample of \n",
    "\n",
    "50 sales from office #2 revealed a mean of 100 days and a standard deviation of 20 days. Use a .05 level of significance."
   ]
  },
  {
   "cell_type": "code",
   "execution_count": 7,
   "metadata": {},
   "outputs": [
    {
     "data": {
      "text/html": [
       "<div>\n",
       "<style scoped>\n",
       "    .dataframe tbody tr th:only-of-type {\n",
       "        vertical-align: middle;\n",
       "    }\n",
       "\n",
       "    .dataframe tbody tr th {\n",
       "        vertical-align: top;\n",
       "    }\n",
       "\n",
       "    .dataframe thead th {\n",
       "        text-align: right;\n",
       "    }\n",
       "</style>\n",
       "<table border=\"1\" class=\"dataframe\">\n",
       "  <thead>\n",
       "    <tr style=\"text-align: right;\">\n",
       "      <th></th>\n",
       "      <th>office one</th>\n",
       "      <th>office two</th>\n",
       "    </tr>\n",
       "  </thead>\n",
       "  <tbody>\n",
       "    <tr>\n",
       "      <th>0</th>\n",
       "      <td>34.076787</td>\n",
       "      <td>-13.749886</td>\n",
       "    </tr>\n",
       "    <tr>\n",
       "      <th>1</th>\n",
       "      <td>1.752454</td>\n",
       "      <td>-5.216283</td>\n",
       "    </tr>\n",
       "    <tr>\n",
       "      <th>2</th>\n",
       "      <td>21.179550</td>\n",
       "      <td>46.680730</td>\n",
       "    </tr>\n",
       "    <tr>\n",
       "      <th>3</th>\n",
       "      <td>81.667321</td>\n",
       "      <td>11.917605</td>\n",
       "    </tr>\n",
       "    <tr>\n",
       "      <th>4</th>\n",
       "      <td>114.496112</td>\n",
       "      <td>7.063112</td>\n",
       "    </tr>\n",
       "    <tr>\n",
       "      <th>...</th>\n",
       "      <td>...</td>\n",
       "      <td>...</td>\n",
       "    </tr>\n",
       "    <tr>\n",
       "      <th>9995</th>\n",
       "      <td>-90.278631</td>\n",
       "      <td>-17.076030</td>\n",
       "    </tr>\n",
       "    <tr>\n",
       "      <th>9996</th>\n",
       "      <td>108.191173</td>\n",
       "      <td>-16.693500</td>\n",
       "    </tr>\n",
       "    <tr>\n",
       "      <th>9997</th>\n",
       "      <td>133.862710</td>\n",
       "      <td>26.583760</td>\n",
       "    </tr>\n",
       "    <tr>\n",
       "      <th>9998</th>\n",
       "      <td>-48.145172</td>\n",
       "      <td>28.111629</td>\n",
       "    </tr>\n",
       "    <tr>\n",
       "      <th>9999</th>\n",
       "      <td>108.756230</td>\n",
       "      <td>26.648788</td>\n",
       "    </tr>\n",
       "  </tbody>\n",
       "</table>\n",
       "<p>10000 rows × 2 columns</p>\n",
       "</div>"
      ],
      "text/plain": [
       "      office one  office two\n",
       "0      34.076787  -13.749886\n",
       "1       1.752454   -5.216283\n",
       "2      21.179550   46.680730\n",
       "3      81.667321   11.917605\n",
       "4     114.496112    7.063112\n",
       "...          ...         ...\n",
       "9995  -90.278631  -17.076030\n",
       "9996  108.191173  -16.693500\n",
       "9997  133.862710   26.583760\n",
       "9998  -48.145172   28.111629\n",
       "9999  108.756230   26.648788\n",
       "\n",
       "[10000 rows x 2 columns]"
      ]
     },
     "execution_count": 7,
     "metadata": {},
     "output_type": "execute_result"
    }
   ],
   "source": [
    "import matplotlib as mpl\n",
    "import numpy as np\n",
    "import scipy.stats as stats\n",
    "import seaborn as sns\n",
    "import pandas as pd\n",
    "\n",
    "\n",
    "office_1_sample = 40\n",
    "office_1_mean_days = 90\n",
    "office_1_std =  15\n",
    "office_2_sample = 50\n",
    "office_2_mean_days = 100\n",
    "office_2_std = 20  \n",
    "level_of_signif = .05\n",
    "\n",
    "home_office = np.random.normal((office_1_mean_days, office_1_std),(office_2_mean_days, office_2_std), size=(10_000,2))\n",
    "home_office_df = pd.DataFrame(home_office, columns=['office one', 'office two'])\n",
    "home_office_df"
   ]
  }
 ],
 "metadata": {
  "interpreter": {
   "hash": "d4254dfede92ed85b1e7effbb0ae0c06b8ef5710a6a6be3bdd84af0ac16bdfc5"
  },
  "kernelspec": {
   "display_name": "Python 3.9.10 ('codeup')",
   "language": "python",
   "name": "python3"
  },
  "language_info": {
   "codemirror_mode": {
    "name": "ipython",
    "version": 3
   },
   "file_extension": ".py",
   "mimetype": "text/x-python",
   "name": "python",
   "nbconvert_exporter": "python",
   "pygments_lexer": "ipython3",
   "version": "3.9.10"
  },
  "orig_nbformat": 4
 },
 "nbformat": 4,
 "nbformat_minor": 2
}
